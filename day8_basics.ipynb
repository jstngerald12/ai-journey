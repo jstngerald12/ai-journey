{
 "cells": [
  {
   "cell_type": "code",
   "execution_count": 1,
   "id": "6b1afd9c",
   "metadata": {},
   "outputs": [
    {
     "name": "stdout",
     "output_type": "stream",
     "text": [
      "Justin 44\n"
     ]
    }
   ],
   "source": [
    "name = \"Justin\"\n",
    "age = 44\n",
    "print(name, age)\n"
   ]
  },
  {
   "cell_type": "code",
   "execution_count": 2,
   "id": "b8d61bb2",
   "metadata": {},
   "outputs": [
    {
     "name": "stdout",
     "output_type": "stream",
     "text": [
      "<class 'int'>\n",
      "<class 'float'>\n",
      "<class 'str'>\n",
      "<class 'bool'>\n"
     ]
    }
   ],
   "source": [
    "an_integer = 10\n",
    "a_float = 3.14\n",
    "a_string = \"Hello, AI!\"\n",
    "a_boolean = True\n",
    "\n",
    "print(type(an_integer))\n",
    "print(type(a_float))\n",
    "print(type(a_string))\n",
    "print(type(a_boolean))\n"
   ]
  },
  {
   "cell_type": "code",
   "execution_count": 3,
   "id": "7cbe6a83",
   "metadata": {},
   "outputs": [
    {
     "name": "stdout",
     "output_type": "stream",
     "text": [
      "Addition: 10\n",
      "Division: 2.3333333333333335\n",
      "Integer division: 2\n",
      "Power: 343\n"
     ]
    }
   ],
   "source": [
    "x = 7\n",
    "y = 3\n",
    "print(\"Addition:\", x + y)\n",
    "print(\"Division:\", x / y)\n",
    "print(\"Integer division:\", x // y)\n",
    "print(\"Power:\", x ** y)\n"
   ]
  },
  {
   "cell_type": "code",
   "execution_count": 4,
   "id": "012cb668",
   "metadata": {},
   "outputs": [
    {
     "name": "stdout",
     "output_type": "stream",
     "text": [
      "Hello World!\n",
      "HELLO WORLD!\n",
      "hello world!\n",
      "Hello AI!\n"
     ]
    }
   ],
   "source": [
    "greeting = \"Hello\"\n",
    "target = \"World\"\n",
    "message = greeting + \" \" + target + \"!\"\n",
    "print(message)\n",
    "print(message.upper())\n",
    "print(message.lower())\n",
    "print(message.replace(\"World\", \"AI\"))\n"
   ]
  },
  {
   "cell_type": "code",
   "execution_count": null,
   "id": "c8113851",
   "metadata": {},
   "outputs": [],
   "source": []
  }
 ],
 "metadata": {
  "kernelspec": {
   "display_name": "base",
   "language": "python",
   "name": "python3"
  },
  "language_info": {
   "codemirror_mode": {
    "name": "ipython",
    "version": 3
   },
   "file_extension": ".py",
   "mimetype": "text/x-python",
   "name": "python",
   "nbconvert_exporter": "python",
   "pygments_lexer": "ipython3",
   "version": "3.13.5"
  }
 },
 "nbformat": 4,
 "nbformat_minor": 5
}
